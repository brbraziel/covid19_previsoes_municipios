{
 "cells": [
  {
   "cell_type": "markdown",
   "id": "ba96bb57",
   "metadata": {},
   "source": [
    "# Imports"
   ]
  },
  {
   "cell_type": "code",
   "execution_count": null,
   "id": "5970cc66",
   "metadata": {
    "ExecuteTime": {
     "end_time": "2021-09-17T01:54:42.980811Z",
     "start_time": "2021-09-17T01:54:42.970297Z"
    }
   },
   "outputs": [],
   "source": [
    "import urllib.request\n",
    "import os\n",
    "import zipfile\n",
    "import requests\n",
    "from bs4 import BeautifulSoup as bs"
   ]
  },
  {
   "cell_type": "markdown",
   "id": "2acbc777",
   "metadata": {},
   "source": [
    "# Download Data"
   ]
  },
  {
   "cell_type": "code",
   "execution_count": null,
   "id": "a6988c03",
   "metadata": {
    "ExecuteTime": {
     "end_time": "2021-09-17T01:54:25.788888Z",
     "start_time": "2021-09-17T01:54:25.489716Z"
    }
   },
   "outputs": [],
   "source": [
    "URL = \"https://covid.saude.gov.br/\"\n",
    "r = requests.get(URL)"
   ]
  },
  {
   "cell_type": "code",
   "execution_count": null,
   "id": "4e13c442",
   "metadata": {
    "ExecuteTime": {
     "end_time": "2021-09-17T01:54:44.627029Z",
     "start_time": "2021-09-17T01:54:44.606877Z"
    }
   },
   "outputs": [],
   "source": [
    "soup = bs(r.text)"
   ]
  },
  {
   "cell_type": "code",
   "execution_count": null,
   "id": "4e60a806",
   "metadata": {
    "ExecuteTime": {
     "end_time": "2021-09-17T02:06:56.311168Z",
     "start_time": "2021-09-17T02:06:56.289835Z"
    }
   },
   "outputs": [],
   "source": [
    "from Naked.toolshed.shell import execute_js, muterun_js\n",
    "\n",
    "response = muterun_js('https://js-cdn.dynatrace.com/jstag/17052aca8bb/ruxitagent_A2SVfqru_10187200323152418.js')\n",
    "if response.exitcode == 0:\n",
    "    print(response.stdout)\n",
    "else:\n",
    "    sys.stderr.write(response.stderr)"
   ]
  },
  {
   "cell_type": "code",
   "execution_count": null,
   "id": "46cebd46",
   "metadata": {
    "ExecuteTime": {
     "end_time": "2021-09-17T01:57:59.066734Z",
     "start_time": "2021-09-17T01:57:59.050463Z"
    }
   },
   "outputs": [],
   "source": [
    "https://js-cdn.dynatrace.com/jstag/17052aca8bb/ruxitagent_A2SVfqru_10187200323152418.js"
   ]
  },
  {
   "cell_type": "code",
   "execution_count": null,
   "id": "af815da4",
   "metadata": {
    "ExecuteTime": {
     "end_time": "2021-09-17T01:57:55.305209Z",
     "start_time": "2021-09-17T01:57:55.289111Z"
    }
   },
   "outputs": [],
   "source": [
    "soup.find_all(attrs={\"download\": \"HIST_PAINEL_COVIDBR_16set2021.zip\"})"
   ]
  },
  {
   "cell_type": "code",
   "execution_count": null,
   "id": "09dec044",
   "metadata": {
    "ExecuteTime": {
     "end_time": "2021-09-17T01:41:50.749103Z",
     "start_time": "2021-09-17T01:41:43.564584Z"
    }
   },
   "outputs": [],
   "source": [
    "# Download zip file\n",
    "urllib.request.urlretrieve(\"https://mobileapps.saude.gov.br/esus-vepi/files/unAFkcaNDeXajurGB7LChj8SgQYS2ptm/3d01bb3db1c397423374f53800757630_HIST_PAINEL_COVIDBR_16set2021.zip\", '../data/raw/covid_saude/covid_saude.zip')"
   ]
  },
  {
   "cell_type": "code",
   "execution_count": null,
   "id": "098eacfe",
   "metadata": {
    "ExecuteTime": {
     "end_time": "2021-09-17T01:41:50.868906Z",
     "start_time": "2021-09-17T01:41:50.758766Z"
    },
    "run_control": {
     "marked": false
    }
   },
   "outputs": [],
   "source": [
    "# Delete old .csv files\n",
    "dir_name = '../data/raw/covid_saude'\n",
    "\n",
    "for item in os.listdir(dir_name): # loop through items in dir\n",
    "    if item.endswith('.csv'): # check for \".csv\" extension\n",
    "        file_name = os.path.abspath(item) # get full path of files\n",
    "        file_name = file_name.replace('notebooks', 'data\\\\raw\\\\covid_saude')\n",
    "        os.remove(file_name) # delete zipped file"
   ]
  },
  {
   "cell_type": "code",
   "execution_count": null,
   "id": "542e70b2",
   "metadata": {
    "ExecuteTime": {
     "end_time": "2021-09-17T01:41:52.938933Z",
     "start_time": "2021-09-17T01:41:50.876167Z"
    },
    "run_control": {
     "marked": false
    }
   },
   "outputs": [],
   "source": [
    "# Unzip files and delete zipped file\n",
    "for item in os.listdir(dir_name): # loop through items in dir\n",
    "    if item.endswith('.zip'): # check for \".zip\" extension\n",
    "        file_name = os.path.abspath(item) # get full path of files\n",
    "        file_name = file_name.replace('notebooks', 'data\\\\raw\\\\covid_saude')\n",
    "        zip_ref = zipfile.ZipFile(file_name) # create zipfile object\n",
    "        zip_ref.extractall(dir_name) # extract file to dir\n",
    "        zip_ref.close() # close file\n",
    "        os.remove(file_name) # delete zipped file"
   ]
  },
  {
   "cell_type": "markdown",
   "id": "74db0ba5",
   "metadata": {},
   "source": [
    "# Selenium"
   ]
  },
  {
   "cell_type": "code",
   "execution_count": null,
   "id": "b3b0f2d5",
   "metadata": {
    "ExecuteTime": {
     "end_time": "2021-09-17T11:41:54.977743Z",
     "start_time": "2021-09-17T11:41:54.766398Z"
    }
   },
   "outputs": [],
   "source": [
    "from selenium import webdriver\n",
    "from selenium.webdriver.firefox.options import Options\n",
    "import glob,os"
   ]
  },
  {
   "cell_type": "code",
   "execution_count": null,
   "id": "05235e5c",
   "metadata": {
    "ExecuteTime": {
     "end_time": "2021-09-17T11:43:49.143898Z",
     "start_time": "2021-09-17T11:43:49.119087Z"
    }
   },
   "outputs": [],
   "source": [
    "download_path = '../data/raw/covid_saude'\n",
    "output_path = '../data/raw/covid_saude'\n",
    "\n",
    "for file in glob.glob(download_path+\"*.csv\"):\n",
    "    os.remove(file)\n",
    "\n",
    "profile = webdriver.FirefoxProfile()\n",
    "profile.set_preference(\"browser.download.folderList\", 2)\n",
    "profile.set_preference(\"browser.download.manager.showWhenStarting\",False)\n",
    "profile.set_preference(\"browser.download.dir\", download_path)\n",
    "profile.set_preference(\"browser.helperApps.neverAsk.saveToDisk\",\"text/csv,application/csv,text/plan,text/comma-separated-values\")\n",
    "\n",
    "options = Options()\n",
    "options.headless = True"
   ]
  },
  {
   "cell_type": "code",
   "execution_count": null,
   "id": "5c768fb9",
   "metadata": {
    "ExecuteTime": {
     "end_time": "2021-09-17T11:51:27.506545Z",
     "start_time": "2021-09-17T11:51:27.455407Z"
    }
   },
   "outputs": [],
   "source": [
    "driver=webdriver.Firefox(firefox_profile=profile,options=options)\n",
    "driver.get(\"https://covid.saude.gov.br/\")\n",
    "\n",
    "btn = driver.find_element_by_class_name(\"btn-outline\")\n",
    "btn.click()\n",
    "\n",
    "driver.close()"
   ]
  },
  {
   "cell_type": "markdown",
   "id": "835b4451",
   "metadata": {},
   "source": [
    "# Data Processing"
   ]
  },
  {
   "cell_type": "code",
   "execution_count": null,
   "id": "14bae25b",
   "metadata": {},
   "outputs": [],
   "source": [
    "import pandas, glob\n",
    "\n",
    "csv_name = glob.glob(download_path+\"*.csv\")[0]\n",
    "\n",
    "pd_df = pd.read_csv(csv_name, sep=\";\")\n",
    "pd_df = pd_df.rename(columns = lambda x: \"data\" if \"data\" in x.lower() else x)\n",
    "pd_df['data'] = pd_df['data'].astype('datetime64[ns]')\n",
    "pd_df.to_parquet(output_path+\"covid_saude.parquet\",header=['regiao','estado','data','casosNovos','casosAcumulados','obitosNovos','obitosAcumulados'], index=False, date_format='%d/%m/%Y')"
   ]
  },
  {
   "cell_type": "code",
   "execution_count": null,
   "id": "3f35f03c",
   "metadata": {},
   "outputs": [],
   "source": []
  }
 ],
 "metadata": {
  "kernelspec": {
   "display_name": "Python 3 (ipykernel)",
   "language": "python",
   "name": "python3"
  },
  "language_info": {
   "codemirror_mode": {
    "name": "ipython",
    "version": 3
   },
   "file_extension": ".py",
   "mimetype": "text/x-python",
   "name": "python",
   "nbconvert_exporter": "python",
   "pygments_lexer": "ipython3",
   "version": "3.8.11"
  },
  "toc": {
   "nav_menu": {},
   "number_sections": true,
   "sideBar": true,
   "skip_h1_title": false,
   "title_cell": "Table of Contents",
   "title_sidebar": "Contents",
   "toc_cell": false,
   "toc_position": {},
   "toc_section_display": true,
   "toc_window_display": false
  }
 },
 "nbformat": 4,
 "nbformat_minor": 5
}
